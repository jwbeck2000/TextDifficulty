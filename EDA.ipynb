{
 "cells": [
  {
   "cell_type": "markdown",
   "id": "becoming-chamber",
   "metadata": {},
   "source": [
    "## https://www.kaggle.com/competitions/umich-siads-696-f22-predicting-text-difficulty/leaderboard"
   ]
  },
  {
   "cell_type": "code",
   "execution_count": 1,
   "id": "sustained-charm",
   "metadata": {},
   "outputs": [],
   "source": [
    "import pandas as pd\n",
    "import numpy as np\n",
    "from nltk.tokenize import word_tokenize\n",
    "from nltk import pos_tag\n",
    "from nltk.corpus import stopwords\n",
    "from nltk.stem import WordNetLemmatizer\n",
    "from sklearn.preprocessing import LabelEncoder\n",
    "from collections import defaultdict\n",
    "from nltk.corpus import wordnet as wn\n",
    "from sklearn.linear_model import LogisticRegression\n",
    "from sklearn.feature_extraction.text import TfidfVectorizer\n",
    "from sklearn.feature_extraction.text import CountVectorizer\n",
    "from sklearn.metrics import f1_score\n",
    "from sklearn import model_selection, naive_bayes, svm\n",
    "from sklearn.metrics import accuracy_score\n",
    "import gc\n",
    "import pickle"
   ]
  },
  {
   "cell_type": "code",
   "execution_count": 15,
   "id": "compliant-imperial",
   "metadata": {},
   "outputs": [
    {
     "name": "stderr",
     "output_type": "stream",
     "text": [
      "[nltk_data] Downloading package punkt to /Users/jimbo/nltk_data...\n",
      "[nltk_data]   Package punkt is already up-to-date!\n",
      "[nltk_data] Downloading package stopwords to /Users/jimbo/nltk_data...\n",
      "[nltk_data]   Package stopwords is already up-to-date!\n",
      "[nltk_data] Downloading package averaged_perceptron_tagger to\n",
      "[nltk_data]     /Users/jimbo/nltk_data...\n",
      "[nltk_data]   Unzipping taggers/averaged_perceptron_tagger.zip.\n"
     ]
    },
    {
     "data": {
      "text/plain": [
       "True"
      ]
     },
     "execution_count": 15,
     "metadata": {},
     "output_type": "execute_result"
    }
   ],
   "source": [
    "import nltk\n",
    "nltk.download('punkt')\n",
    "nltk.download('stopwords')\n",
    "nltk.download('averaged_perceptron_tagger')"
   ]
  },
  {
   "cell_type": "markdown",
   "id": "comprehensive-mobility",
   "metadata": {},
   "source": [
    "### Import Training Data"
   ]
  },
  {
   "cell_type": "code",
   "execution_count": 3,
   "id": "exempt-burton",
   "metadata": {},
   "outputs": [],
   "source": [
    "# We split the original file in three parts so that it could be uploaded to GitHub.\n",
    "# This function combines the split files into a single file\n",
    "def combine_files(file1, file2, file3):\n",
    "    \n",
    "    d1 = pd.read_csv(file1)\n",
    "    d2 = pd.read_csv(file2)\n",
    "    d3 = pd.read_csv(file3)\n",
    "    \n",
    "    df = pd.concat([d1, d2, d3])\n",
    "    \n",
    "    return df"
   ]
  },
  {
   "cell_type": "code",
   "execution_count": 4,
   "id": "posted-forestry",
   "metadata": {},
   "outputs": [
    {
     "data": {
      "text/html": [
       "<div>\n",
       "<style scoped>\n",
       "    .dataframe tbody tr th:only-of-type {\n",
       "        vertical-align: middle;\n",
       "    }\n",
       "\n",
       "    .dataframe tbody tr th {\n",
       "        vertical-align: top;\n",
       "    }\n",
       "\n",
       "    .dataframe thead th {\n",
       "        text-align: right;\n",
       "    }\n",
       "</style>\n",
       "<table border=\"1\" class=\"dataframe\">\n",
       "  <thead>\n",
       "    <tr style=\"text-align: right;\">\n",
       "      <th></th>\n",
       "      <th>original_text</th>\n",
       "      <th>label</th>\n",
       "    </tr>\n",
       "  </thead>\n",
       "  <tbody>\n",
       "    <tr>\n",
       "      <th>0</th>\n",
       "      <td>There is manuscript evidence that Austen conti...</td>\n",
       "      <td>1</td>\n",
       "    </tr>\n",
       "    <tr>\n",
       "      <th>1</th>\n",
       "      <td>In a remarkable comparative analysis , Mandaea...</td>\n",
       "      <td>1</td>\n",
       "    </tr>\n",
       "    <tr>\n",
       "      <th>2</th>\n",
       "      <td>Before Persephone was released to Hermes , who...</td>\n",
       "      <td>1</td>\n",
       "    </tr>\n",
       "    <tr>\n",
       "      <th>3</th>\n",
       "      <td>Cogeneration plants are commonly found in dist...</td>\n",
       "      <td>1</td>\n",
       "    </tr>\n",
       "    <tr>\n",
       "      <th>4</th>\n",
       "      <td>Geneva -LRB- , ; , ; , ; ; -RRB- is the second...</td>\n",
       "      <td>1</td>\n",
       "    </tr>\n",
       "  </tbody>\n",
       "</table>\n",
       "</div>"
      ],
      "text/plain": [
       "                                       original_text  label\n",
       "0  There is manuscript evidence that Austen conti...      1\n",
       "1  In a remarkable comparative analysis , Mandaea...      1\n",
       "2  Before Persephone was released to Hermes , who...      1\n",
       "3  Cogeneration plants are commonly found in dist...      1\n",
       "4  Geneva -LRB- , ; , ; , ; ; -RRB- is the second...      1"
      ]
     },
     "execution_count": 4,
     "metadata": {},
     "output_type": "execute_result"
    }
   ],
   "source": [
    "# Read in the training data\n",
    "df = combine_files('./data/Wiki_Train_1.csv', './data/Wiki_Train_2.csv', './data/Wiki_Train_3.csv')\n",
    "df.head()"
   ]
  },
  {
   "cell_type": "markdown",
   "id": "forty-dollar",
   "metadata": {},
   "source": [
    "### Create or Modify Variables"
   ]
  },
  {
   "cell_type": "markdown",
   "id": "harmful-space",
   "metadata": {},
   "source": [
    "#### Lowercase Original Text"
   ]
  },
  {
   "cell_type": "code",
   "execution_count": 5,
   "id": "chemical-anxiety",
   "metadata": {},
   "outputs": [
    {
     "data": {
      "text/html": [
       "<div>\n",
       "<style scoped>\n",
       "    .dataframe tbody tr th:only-of-type {\n",
       "        vertical-align: middle;\n",
       "    }\n",
       "\n",
       "    .dataframe tbody tr th {\n",
       "        vertical-align: top;\n",
       "    }\n",
       "\n",
       "    .dataframe thead th {\n",
       "        text-align: right;\n",
       "    }\n",
       "</style>\n",
       "<table border=\"1\" class=\"dataframe\">\n",
       "  <thead>\n",
       "    <tr style=\"text-align: right;\">\n",
       "      <th></th>\n",
       "      <th>original_text</th>\n",
       "      <th>label</th>\n",
       "    </tr>\n",
       "  </thead>\n",
       "  <tbody>\n",
       "    <tr>\n",
       "      <th>0</th>\n",
       "      <td>there is manuscript evidence that austen conti...</td>\n",
       "      <td>1</td>\n",
       "    </tr>\n",
       "    <tr>\n",
       "      <th>1</th>\n",
       "      <td>in a remarkable comparative analysis , mandaea...</td>\n",
       "      <td>1</td>\n",
       "    </tr>\n",
       "    <tr>\n",
       "      <th>2</th>\n",
       "      <td>before persephone was released to hermes , who...</td>\n",
       "      <td>1</td>\n",
       "    </tr>\n",
       "    <tr>\n",
       "      <th>3</th>\n",
       "      <td>cogeneration plants are commonly found in dist...</td>\n",
       "      <td>1</td>\n",
       "    </tr>\n",
       "    <tr>\n",
       "      <th>4</th>\n",
       "      <td>geneva -lrb- , ; , ; , ; ; -rrb- is the second...</td>\n",
       "      <td>1</td>\n",
       "    </tr>\n",
       "  </tbody>\n",
       "</table>\n",
       "</div>"
      ],
      "text/plain": [
       "                                       original_text  label\n",
       "0  there is manuscript evidence that austen conti...      1\n",
       "1  in a remarkable comparative analysis , mandaea...      1\n",
       "2  before persephone was released to hermes , who...      1\n",
       "3  cogeneration plants are commonly found in dist...      1\n",
       "4  geneva -lrb- , ; , ; , ; ; -rrb- is the second...      1"
      ]
     },
     "execution_count": 5,
     "metadata": {},
     "output_type": "execute_result"
    }
   ],
   "source": [
    "# Convert all characters to lower case strings\n",
    "df['original_text'] = df['original_text'].str.lower()\n",
    "df.head()"
   ]
  },
  {
   "cell_type": "markdown",
   "id": "adult-barcelona",
   "metadata": {},
   "source": [
    "#### Tokenize Text"
   ]
  },
  {
   "cell_type": "code",
   "execution_count": 6,
   "id": "surface-application",
   "metadata": {},
   "outputs": [
    {
     "data": {
      "text/html": [
       "<div>\n",
       "<style scoped>\n",
       "    .dataframe tbody tr th:only-of-type {\n",
       "        vertical-align: middle;\n",
       "    }\n",
       "\n",
       "    .dataframe tbody tr th {\n",
       "        vertical-align: top;\n",
       "    }\n",
       "\n",
       "    .dataframe thead th {\n",
       "        text-align: right;\n",
       "    }\n",
       "</style>\n",
       "<table border=\"1\" class=\"dataframe\">\n",
       "  <thead>\n",
       "    <tr style=\"text-align: right;\">\n",
       "      <th></th>\n",
       "      <th>original_text</th>\n",
       "      <th>label</th>\n",
       "      <th>tokenized</th>\n",
       "    </tr>\n",
       "  </thead>\n",
       "  <tbody>\n",
       "    <tr>\n",
       "      <th>0</th>\n",
       "      <td>there is manuscript evidence that austen conti...</td>\n",
       "      <td>1</td>\n",
       "      <td>[there, is, manuscript, evidence, that, austen...</td>\n",
       "    </tr>\n",
       "    <tr>\n",
       "      <th>1</th>\n",
       "      <td>in a remarkable comparative analysis , mandaea...</td>\n",
       "      <td>1</td>\n",
       "      <td>[in, a, remarkable, comparative, analysis, ,, ...</td>\n",
       "    </tr>\n",
       "    <tr>\n",
       "      <th>2</th>\n",
       "      <td>before persephone was released to hermes , who...</td>\n",
       "      <td>1</td>\n",
       "      <td>[before, persephone, was, released, to, hermes...</td>\n",
       "    </tr>\n",
       "    <tr>\n",
       "      <th>3</th>\n",
       "      <td>cogeneration plants are commonly found in dist...</td>\n",
       "      <td>1</td>\n",
       "      <td>[cogeneration, plants, are, commonly, found, i...</td>\n",
       "    </tr>\n",
       "    <tr>\n",
       "      <th>4</th>\n",
       "      <td>geneva -lrb- , ; , ; , ; ; -rrb- is the second...</td>\n",
       "      <td>1</td>\n",
       "      <td>[geneva, -lrb-, ,, ;, ,, ;, ,, ;, ;, -rrb-, is...</td>\n",
       "    </tr>\n",
       "  </tbody>\n",
       "</table>\n",
       "</div>"
      ],
      "text/plain": [
       "                                       original_text  label  \\\n",
       "0  there is manuscript evidence that austen conti...      1   \n",
       "1  in a remarkable comparative analysis , mandaea...      1   \n",
       "2  before persephone was released to hermes , who...      1   \n",
       "3  cogeneration plants are commonly found in dist...      1   \n",
       "4  geneva -lrb- , ; , ; , ; ; -rrb- is the second...      1   \n",
       "\n",
       "                                           tokenized  \n",
       "0  [there, is, manuscript, evidence, that, austen...  \n",
       "1  [in, a, remarkable, comparative, analysis, ,, ...  \n",
       "2  [before, persephone, was, released, to, hermes...  \n",
       "3  [cogeneration, plants, are, commonly, found, i...  \n",
       "4  [geneva, -lrb-, ,, ;, ,, ;, ,, ;, ;, -rrb-, is...  "
      ]
     },
     "execution_count": 6,
     "metadata": {},
     "output_type": "execute_result"
    }
   ],
   "source": [
    "# Create a new column with the tokenized original text\n",
    "df['tokenized'] = df['original_text'].apply(lambda x: word_tokenize(x))\n",
    "df.head()"
   ]
  },
  {
   "cell_type": "markdown",
   "id": "stable-copper",
   "metadata": {},
   "source": [
    "#### Token Counts"
   ]
  },
  {
   "cell_type": "code",
   "execution_count": 7,
   "id": "standard-welcome",
   "metadata": {},
   "outputs": [
    {
     "data": {
      "text/html": [
       "<div>\n",
       "<style scoped>\n",
       "    .dataframe tbody tr th:only-of-type {\n",
       "        vertical-align: middle;\n",
       "    }\n",
       "\n",
       "    .dataframe tbody tr th {\n",
       "        vertical-align: top;\n",
       "    }\n",
       "\n",
       "    .dataframe thead th {\n",
       "        text-align: right;\n",
       "    }\n",
       "</style>\n",
       "<table border=\"1\" class=\"dataframe\">\n",
       "  <thead>\n",
       "    <tr style=\"text-align: right;\">\n",
       "      <th></th>\n",
       "      <th>original_text</th>\n",
       "      <th>label</th>\n",
       "      <th>tokenized</th>\n",
       "      <th>token_size</th>\n",
       "    </tr>\n",
       "  </thead>\n",
       "  <tbody>\n",
       "    <tr>\n",
       "      <th>0</th>\n",
       "      <td>there is manuscript evidence that austen conti...</td>\n",
       "      <td>1</td>\n",
       "      <td>[there, is, manuscript, evidence, that, austen...</td>\n",
       "      <td>43</td>\n",
       "    </tr>\n",
       "    <tr>\n",
       "      <th>1</th>\n",
       "      <td>in a remarkable comparative analysis , mandaea...</td>\n",
       "      <td>1</td>\n",
       "      <td>[in, a, remarkable, comparative, analysis, ,, ...</td>\n",
       "      <td>23</td>\n",
       "    </tr>\n",
       "    <tr>\n",
       "      <th>2</th>\n",
       "      <td>before persephone was released to hermes , who...</td>\n",
       "      <td>1</td>\n",
       "      <td>[before, persephone, was, released, to, hermes...</td>\n",
       "      <td>46</td>\n",
       "    </tr>\n",
       "    <tr>\n",
       "      <th>3</th>\n",
       "      <td>cogeneration plants are commonly found in dist...</td>\n",
       "      <td>1</td>\n",
       "      <td>[cogeneration, plants, are, commonly, found, i...</td>\n",
       "      <td>39</td>\n",
       "    </tr>\n",
       "    <tr>\n",
       "      <th>4</th>\n",
       "      <td>geneva -lrb- , ; , ; , ; ; -rrb- is the second...</td>\n",
       "      <td>1</td>\n",
       "      <td>[geneva, -lrb-, ,, ;, ,, ;, ,, ;, ;, -rrb-, is...</td>\n",
       "      <td>36</td>\n",
       "    </tr>\n",
       "  </tbody>\n",
       "</table>\n",
       "</div>"
      ],
      "text/plain": [
       "                                       original_text  label  \\\n",
       "0  there is manuscript evidence that austen conti...      1   \n",
       "1  in a remarkable comparative analysis , mandaea...      1   \n",
       "2  before persephone was released to hermes , who...      1   \n",
       "3  cogeneration plants are commonly found in dist...      1   \n",
       "4  geneva -lrb- , ; , ; , ; ; -rrb- is the second...      1   \n",
       "\n",
       "                                           tokenized  token_size  \n",
       "0  [there, is, manuscript, evidence, that, austen...          43  \n",
       "1  [in, a, remarkable, comparative, analysis, ,, ...          23  \n",
       "2  [before, persephone, was, released, to, hermes...          46  \n",
       "3  [cogeneration, plants, are, commonly, found, i...          39  \n",
       "4  [geneva, -lrb-, ,, ;, ,, ;, ,, ;, ;, -rrb-, is...          36  "
      ]
     },
     "execution_count": 7,
     "metadata": {},
     "output_type": "execute_result"
    }
   ],
   "source": [
    "# Create a new column that counts the number of tokens in each list\n",
    "df['token_size'] = df['tokenized'].apply(lambda x: len(x))\n",
    "df.head()"
   ]
  },
  {
   "cell_type": "markdown",
   "id": "wound-shock",
   "metadata": {},
   "source": [
    "#### Parts of Speech Tagging"
   ]
  },
  {
   "cell_type": "code",
   "execution_count": 16,
   "id": "arbitrary-chair",
   "metadata": {},
   "outputs": [
    {
     "data": {
      "text/html": [
       "<div>\n",
       "<style scoped>\n",
       "    .dataframe tbody tr th:only-of-type {\n",
       "        vertical-align: middle;\n",
       "    }\n",
       "\n",
       "    .dataframe tbody tr th {\n",
       "        vertical-align: top;\n",
       "    }\n",
       "\n",
       "    .dataframe thead th {\n",
       "        text-align: right;\n",
       "    }\n",
       "</style>\n",
       "<table border=\"1\" class=\"dataframe\">\n",
       "  <thead>\n",
       "    <tr style=\"text-align: right;\">\n",
       "      <th></th>\n",
       "      <th>original_text</th>\n",
       "      <th>label</th>\n",
       "      <th>tokenized</th>\n",
       "      <th>token_size</th>\n",
       "      <th>pos</th>\n",
       "    </tr>\n",
       "  </thead>\n",
       "  <tbody>\n",
       "    <tr>\n",
       "      <th>0</th>\n",
       "      <td>there is manuscript evidence that austen conti...</td>\n",
       "      <td>1</td>\n",
       "      <td>[there, is, manuscript, evidence, that, austen...</td>\n",
       "      <td>43</td>\n",
       "      <td>[(there, EX), (is, VBZ), (manuscript, JJ), (ev...</td>\n",
       "    </tr>\n",
       "    <tr>\n",
       "      <th>1</th>\n",
       "      <td>in a remarkable comparative analysis , mandaea...</td>\n",
       "      <td>1</td>\n",
       "      <td>[in, a, remarkable, comparative, analysis, ,, ...</td>\n",
       "      <td>23</td>\n",
       "      <td>[(in, IN), (a, DT), (remarkable, JJ), (compara...</td>\n",
       "    </tr>\n",
       "    <tr>\n",
       "      <th>2</th>\n",
       "      <td>before persephone was released to hermes , who...</td>\n",
       "      <td>1</td>\n",
       "      <td>[before, persephone, was, released, to, hermes...</td>\n",
       "      <td>46</td>\n",
       "      <td>[(before, IN), (persephone, NN), (was, VBD), (...</td>\n",
       "    </tr>\n",
       "    <tr>\n",
       "      <th>3</th>\n",
       "      <td>cogeneration plants are commonly found in dist...</td>\n",
       "      <td>1</td>\n",
       "      <td>[cogeneration, plants, are, commonly, found, i...</td>\n",
       "      <td>39</td>\n",
       "      <td>[(cogeneration, NN), (plants, NNS), (are, VBP)...</td>\n",
       "    </tr>\n",
       "    <tr>\n",
       "      <th>4</th>\n",
       "      <td>geneva -lrb- , ; , ; , ; ; -rrb- is the second...</td>\n",
       "      <td>1</td>\n",
       "      <td>[geneva, -lrb-, ,, ;, ,, ;, ,, ;, ;, -rrb-, is...</td>\n",
       "      <td>36</td>\n",
       "      <td>[(geneva, NN), (-lrb-, NN), (,, ,), (;, :), (,...</td>\n",
       "    </tr>\n",
       "  </tbody>\n",
       "</table>\n",
       "</div>"
      ],
      "text/plain": [
       "                                       original_text  label  \\\n",
       "0  there is manuscript evidence that austen conti...      1   \n",
       "1  in a remarkable comparative analysis , mandaea...      1   \n",
       "2  before persephone was released to hermes , who...      1   \n",
       "3  cogeneration plants are commonly found in dist...      1   \n",
       "4  geneva -lrb- , ; , ; , ; ; -rrb- is the second...      1   \n",
       "\n",
       "                                           tokenized  token_size  \\\n",
       "0  [there, is, manuscript, evidence, that, austen...          43   \n",
       "1  [in, a, remarkable, comparative, analysis, ,, ...          23   \n",
       "2  [before, persephone, was, released, to, hermes...          46   \n",
       "3  [cogeneration, plants, are, commonly, found, i...          39   \n",
       "4  [geneva, -lrb-, ,, ;, ,, ;, ,, ;, ;, -rrb-, is...          36   \n",
       "\n",
       "                                                 pos  \n",
       "0  [(there, EX), (is, VBZ), (manuscript, JJ), (ev...  \n",
       "1  [(in, IN), (a, DT), (remarkable, JJ), (compara...  \n",
       "2  [(before, IN), (persephone, NN), (was, VBD), (...  \n",
       "3  [(cogeneration, NN), (plants, NNS), (are, VBP)...  \n",
       "4  [(geneva, NN), (-lrb-, NN), (,, ,), (;, :), (,...  "
      ]
     },
     "execution_count": 16,
     "metadata": {},
     "output_type": "execute_result"
    }
   ],
   "source": [
    "df['pos'] = df['tokenized'].apply(lambda x: nltk.pos_tag(x))\n",
    "df.head()"
   ]
  },
  {
   "cell_type": "markdown",
   "id": "invisible-custody",
   "metadata": {},
   "source": [
    "#### Average Word Length"
   ]
  },
  {
   "cell_type": "code",
   "execution_count": 51,
   "id": "honey-reducing",
   "metadata": {},
   "outputs": [],
   "source": [
    "def average_word_length(word_list):\n",
    "    temp_list = [len(word) for word in word_list]\n",
    "    return np.mean(temp_list)"
   ]
  },
  {
   "cell_type": "code",
   "execution_count": 52,
   "id": "interracial-integer",
   "metadata": {},
   "outputs": [],
   "source": [
    "df['avg_token_len'] = df['tokenized'].apply(lambda x: average_word_length(x))\n",
    "df.head()"
   ]
  },
  {
   "cell_type": "markdown",
   "id": "furnished-chess",
   "metadata": {},
   "source": [
    "### Exploratory Data Analysis"
   ]
  },
  {
   "cell_type": "code",
   "execution_count": 9,
   "id": "protective-chicago",
   "metadata": {},
   "outputs": [],
   "source": [
    "import matplotlib.pyplot as plt\n",
    "import seaborn as sns"
   ]
  },
  {
   "cell_type": "markdown",
   "id": "bronze-constraint",
   "metadata": {},
   "source": [
    "#### Label Counts: Simplified vs Not Simplified"
   ]
  },
  {
   "cell_type": "code",
   "execution_count": 65,
   "id": "australian-pencil",
   "metadata": {},
   "outputs": [
    {
     "data": {
      "text/html": [
       "<div>\n",
       "<style scoped>\n",
       "    .dataframe tbody tr th:only-of-type {\n",
       "        vertical-align: middle;\n",
       "    }\n",
       "\n",
       "    .dataframe tbody tr th {\n",
       "        vertical-align: top;\n",
       "    }\n",
       "\n",
       "    .dataframe thead th {\n",
       "        text-align: right;\n",
       "    }\n",
       "</style>\n",
       "<table border=\"1\" class=\"dataframe\">\n",
       "  <thead>\n",
       "    <tr style=\"text-align: right;\">\n",
       "      <th></th>\n",
       "      <th>index</th>\n",
       "      <th>label</th>\n",
       "    </tr>\n",
       "  </thead>\n",
       "  <tbody>\n",
       "    <tr>\n",
       "      <th>0</th>\n",
       "      <td>Simplified</td>\n",
       "      <td>208384</td>\n",
       "    </tr>\n",
       "    <tr>\n",
       "      <th>1</th>\n",
       "      <td>Not Simplified</td>\n",
       "      <td>208384</td>\n",
       "    </tr>\n",
       "  </tbody>\n",
       "</table>\n",
       "</div>"
      ],
      "text/plain": [
       "            index   label\n",
       "0      Simplified  208384\n",
       "1  Not Simplified  208384"
      ]
     },
     "execution_count": 65,
     "metadata": {},
     "output_type": "execute_result"
    }
   ],
   "source": [
    "label_counts = df['label'].value_counts().rename(index={0: 'Simplified', 1: 'Not Simplified'}).reset_index()\n",
    "label_counts"
   ]
  },
  {
   "cell_type": "code",
   "execution_count": 66,
   "id": "external-rocket",
   "metadata": {},
   "outputs": [
    {
     "data": {
      "image/png": "[encoded data removed]",
      "text/plain": [
       "<Figure size 1152x576 with 1 Axes>"
      ]
     },
     "metadata": {
      "needs_background": "light"
     },
     "output_type": "display_data"
    }
   ],
   "source": [
    "fig, ax = plt.subplots(figsize=(16, 8))\n",
    "\n",
    "ax.bar(label_counts['index'], label_counts['label'])\n",
    "\n",
    "plt.title('Count of Training Labels: Simple vs Not Simple')\n",
    "\n",
    "plt.show()"
   ]
  },
  {
   "cell_type": "markdown",
   "id": "demographic-shore",
   "metadata": {},
   "source": [
    "#### Average Token Count per Original Text"
   ]
  },
  {
   "cell_type": "code",
   "execution_count": 67,
   "id": "center-blend",
   "metadata": {},
   "outputs": [
    {
     "data": {
      "text/html": [
       "<div>\n",
       "<style scoped>\n",
       "    .dataframe tbody tr th:only-of-type {\n",
       "        vertical-align: middle;\n",
       "    }\n",
       "\n",
       "    .dataframe tbody tr th {\n",
       "        vertical-align: top;\n",
       "    }\n",
       "\n",
       "    .dataframe thead th {\n",
       "        text-align: right;\n",
       "    }\n",
       "</style>\n",
       "<table border=\"1\" class=\"dataframe\">\n",
       "  <thead>\n",
       "    <tr style=\"text-align: right;\">\n",
       "      <th></th>\n",
       "      <th>label</th>\n",
       "      <th>token_size</th>\n",
       "    </tr>\n",
       "  </thead>\n",
       "  <tbody>\n",
       "    <tr>\n",
       "      <th>0</th>\n",
       "      <td>Simplified</td>\n",
       "      <td>18.511613</td>\n",
       "    </tr>\n",
       "    <tr>\n",
       "      <th>1</th>\n",
       "      <td>Not Simplified</td>\n",
       "      <td>25.188724</td>\n",
       "    </tr>\n",
       "  </tbody>\n",
       "</table>\n",
       "</div>"
      ],
      "text/plain": [
       "            label  token_size\n",
       "0      Simplified   18.511613\n",
       "1  Not Simplified   25.188724"
      ]
     },
     "execution_count": 67,
     "metadata": {},
     "output_type": "execute_result"
    }
   ],
   "source": [
    "avg_token_count = df.groupby('label', \n",
    "                            as_index=False)['token_size'].mean().replace({'label': {0: 'Simplified', \n",
    "                                                                                    1: 'Not Simplified'}})\n",
    "\n",
    "avg_token_count"
   ]
  },
  {
   "cell_type": "code",
   "execution_count": 68,
   "id": "residential-edition",
   "metadata": {},
   "outputs": [
    {
     "data": {
      "image/png": "[encoded data removed]",
      "text/plain": [
       "<Figure size 1152x576 with 1 Axes>"
      ]
     },
     "metadata": {
      "needs_background": "light"
     },
     "output_type": "display_data"
    }
   ],
   "source": [
    "fig, ax = plt.subplots(figsize=(16, 8))\n",
    "\n",
    "ax.bar(avg_token_count['label'], avg_token_count['token_size'])\n",
    "\n",
    "plt.title('Average Token Count by Label')\n",
    "\n",
    "plt.show()"
   ]
  },
  {
   "cell_type": "markdown",
   "id": "documented-hunter",
   "metadata": {},
   "source": [
    "#### Average Token Length per Original Text"
   ]
  },
  {
   "cell_type": "code",
   "execution_count": 69,
   "id": "aquatic-institution",
   "metadata": {},
   "outputs": [
    {
     "data": {
      "text/html": [
       "<div>\n",
       "<style scoped>\n",
       "    .dataframe tbody tr th:only-of-type {\n",
       "        vertical-align: middle;\n",
       "    }\n",
       "\n",
       "    .dataframe tbody tr th {\n",
       "        vertical-align: top;\n",
       "    }\n",
       "\n",
       "    .dataframe thead th {\n",
       "        text-align: right;\n",
       "    }\n",
       "</style>\n",
       "<table border=\"1\" class=\"dataframe\">\n",
       "  <thead>\n",
       "    <tr style=\"text-align: right;\">\n",
       "      <th></th>\n",
       "      <th>label</th>\n",
       "      <th>avg_token_len</th>\n",
       "    </tr>\n",
       "  </thead>\n",
       "  <tbody>\n",
       "    <tr>\n",
       "      <th>0</th>\n",
       "      <td>Simplified</td>\n",
       "      <td>4.552155</td>\n",
       "    </tr>\n",
       "    <tr>\n",
       "      <th>1</th>\n",
       "      <td>Not Simplified</td>\n",
       "      <td>4.537199</td>\n",
       "    </tr>\n",
       "  </tbody>\n",
       "</table>\n",
       "</div>"
      ],
      "text/plain": [
       "            label  avg_token_len\n",
       "0      Simplified       4.552155\n",
       "1  Not Simplified       4.537199"
      ]
     },
     "execution_count": 69,
     "metadata": {},
     "output_type": "execute_result"
    }
   ],
   "source": [
    "avg_token_length = df.groupby('label', \n",
    "                            as_index=False)['avg_token_len'].mean().replace({'label': {0: 'Simplified', \n",
    "                                                                                    1: 'Not Simplified'}})\n",
    "\n",
    "avg_token_length"
   ]
  },
  {
   "cell_type": "code",
   "execution_count": 70,
   "id": "bound-scale",
   "metadata": {},
   "outputs": [
    {
     "data": {
      "image/png": "[encoded data removed]",
      "text/plain": [
       "<Figure size 1152x576 with 1 Axes>"
      ]
     },
     "metadata": {
      "needs_background": "light"
     },
     "output_type": "display_data"
    }
   ],
   "source": [
    "fig, ax = plt.subplots(figsize=(16, 8))\n",
    "\n",
    "ax.bar(avg_token_length['label'], avg_token_length['avg_token_len'])\n",
    "\n",
    "plt.title('Average Token Length by Label')\n",
    "\n",
    "plt.show()"
   ]
  },
  {
   "cell_type": "markdown",
   "id": "integrated-government",
   "metadata": {},
   "source": [
    "#### Token Count Distributions"
   ]
  },
  {
   "cell_type": "code",
   "execution_count": 71,
   "id": "optional-artist",
   "metadata": {},
   "outputs": [
    {
     "data": {
      "image/png": "[encoded data removed]",
      "text/plain": [
       "<Figure size 1152x576 with 1 Axes>"
      ]
     },
     "metadata": {
      "needs_background": "light"
     },
     "output_type": "display_data"
    }
   ],
   "source": [
    "def rounduptobase(x, base=10):\n",
    "    return x + (base - x%base)\n",
    "\n",
    "fig, ax = plt.subplots(figsize=(16, 8))\n",
    "\n",
    "ax.hist(df['token_size'], np.arange(0, rounduptobase(df['token_size'].max()), 5), lw=1, ec=\"black\")\n",
    "\n",
    "plt.title('Overall Distribution of Token Count')\n",
    "\n",
    "plt.show()"
   ]
  },
  {
   "cell_type": "code",
   "execution_count": 101,
   "id": "induced-colleague",
   "metadata": {},
   "outputs": [
    {
     "data": {
      "image/png": "[encoded data removed]",
      "text/plain": [
       "<Figure size 1152x576 with 1 Axes>"
      ]
     },
     "metadata": {
      "needs_background": "light"
     },
     "output_type": "display_data"
    }
   ],
   "source": [
    "fig, ax = plt.subplots(figsize=(16, 8))\n",
    "\n",
    "ax.hist(df[df['label']==0]['token_size'], np.arange(0, rounduptobase(df['token_size'].max()), 5), \n",
    "         lw=1, ec=\"black\")\n",
    "\n",
    "plt.title('Token Count Distribution: Simplified Label')\n",
    "ax.set_ylim([0, 45000])\n",
    "\n",
    "plt.show()"
   ]
  },
  {
   "cell_type": "code",
   "execution_count": 102,
   "id": "musical-needle",
   "metadata": {},
   "outputs": [
    {
     "data": {
      "image/png": "[encoded data removed]",
      "text/plain": [
       "<Figure size 1152x576 with 1 Axes>"
      ]
     },
     "metadata": {
      "needs_background": "light"
     },
     "output_type": "display_data"
    }
   ],
   "source": [
    "fig, ax = plt.subplots(figsize=(16, 8))\n",
    "\n",
    "plt.hist(df[df['label']==1]['token_size'], np.arange(0, rounduptobase(df['token_size'].max()), 5), \n",
    "         lw=1, ec=\"black\")\n",
    "\n",
    "plt.title('Token Count Distribution: Not Simplified Label')\n",
    "ax.set_ylim([0, 45000])\n",
    "\n",
    "plt.show()"
   ]
  },
  {
   "cell_type": "markdown",
   "id": "architectural-holmes",
   "metadata": {},
   "source": [
    "#### Token Count Distributions Z Test"
   ]
  },
  {
   "cell_type": "code",
   "execution_count": 89,
   "id": "induced-election",
   "metadata": {},
   "outputs": [],
   "source": [
    "X0 = np.mean(df[df['label']==0]['token_size'])\n",
    "S0 = np.std(df[df['label']==0]['token_size'], ddof=1)\n",
    "\n",
    "X1 = np.mean(df[df['label']==1]['token_size'])\n",
    "S1 = np.std(df[df['label']==1]['token_size'], ddof=1)"
   ]
  },
  {
   "cell_type": "code",
   "execution_count": 90,
   "id": "inner-riverside",
   "metadata": {},
   "outputs": [
    {
     "name": "stdout",
     "output_type": "stream",
     "text": [
      "12.924627365520847 11.60420349460118 25.188723702395578 18.511613175675677\n"
     ]
    }
   ],
   "source": [
    "print(S1, S0, X1, X0)"
   ]
  },
  {
   "cell_type": "code",
   "execution_count": 87,
   "id": "binary-estate",
   "metadata": {},
   "outputs": [
    {
     "data": {
      "text/plain": [
       "1.3481886355477664"
      ]
     },
     "execution_count": 87,
     "metadata": {},
     "output_type": "execute_result"
    }
   ],
   "source": [
    "(X1 - X0)/(S1+S0)**(1/2)"
   ]
  },
  {
   "cell_type": "markdown",
   "id": "light-exposure",
   "metadata": {},
   "source": [
    "#### Parts of Speech Tagging Visualization"
   ]
  },
  {
   "cell_type": "code",
   "execution_count": 30,
   "id": "opening-japan",
   "metadata": {},
   "outputs": [],
   "source": [
    "ndif_pos_list = [item for sublist in df[df['label']==0]['pos'].values.tolist() for item in sublist]\n",
    "diff_pos_list = [item for sublist in df[df['label']==1]['pos'].values.tolist() for item in sublist]"
   ]
  },
  {
   "cell_type": "code",
   "execution_count": 74,
   "id": "identical-eight",
   "metadata": {},
   "outputs": [],
   "source": [
    "ndif_fd = nltk.FreqDist(tag for (word, tag) in ndif_pos_list)\n",
    "# ndif_fd.most_common()"
   ]
  },
  {
   "cell_type": "code",
   "execution_count": 75,
   "id": "entitled-selling",
   "metadata": {},
   "outputs": [],
   "source": [
    "diff_fd = nltk.FreqDist(tag for (word, tag) in diff_pos_list)\n",
    "# diff_fd.most_common()"
   ]
  },
  {
   "cell_type": "code",
   "execution_count": 78,
   "id": "active-street",
   "metadata": {},
   "outputs": [
    {
     "data": {
      "image/png": "[encoded data removed]",
      "text/plain": [
       "<Figure size 1152x576 with 1 Axes>"
      ]
     },
     "metadata": {
      "needs_background": "light"
     },
     "output_type": "display_data"
    },
    {
     "data": {
      "image/png": "[encoded data removed]",
      "text/plain": [
       "<Figure size 1152x576 with 1 Axes>"
      ]
     },
     "metadata": {
      "needs_background": "light"
     },
     "output_type": "display_data"
    },
    {
     "data": {
      "text/plain": [
       "<AxesSubplot:title={'center':'Parts of Speech Tagging Count: Not Simplified Label'}, xlabel='Samples', ylabel='Counts'>"
      ]
     },
     "execution_count": 78,
     "metadata": {},
     "output_type": "execute_result"
    }
   ],
   "source": [
    "fig, ax = plt.subplots(figsize=(16, 8))\n",
    "plt.title('Parts of Speech Tagging Count: Simplified Label')\n",
    "ndif_fd.plot()\n",
    "\n",
    "fig, ax = plt.subplots(figsize=(16, 8))\n",
    "plt.title('Parts of Speech Tagging Count: Not Simplified Label')\n",
    "diff_fd.plot()"
   ]
  }
 ],
 "metadata": {
  "kernelspec": {
   "display_name": "Python 3",
   "language": "python",
   "name": "python3"
  },
  "language_info": {
   "codemirror_mode": {
    "name": "ipython",
    "version": 3
   },
   "file_extension": ".py",
   "mimetype": "text/x-python",
   "name": "python",
   "nbconvert_exporter": "python",
   "pygments_lexer": "ipython3",
   "version": "3.9.10"
  }
 },
 "nbformat": 4,
 "nbformat_minor": 5
}
